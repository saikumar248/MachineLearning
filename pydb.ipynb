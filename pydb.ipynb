{
 "cells": [
  {
   "cell_type": "code",
   "execution_count": 2,
   "id": "595224fb",
   "metadata": {},
   "outputs": [],
   "source": [
    "import mysql.connector"
   ]
  },
  {
   "cell_type": "code",
   "execution_count": 3,
   "id": "6c7528bd",
   "metadata": {},
   "outputs": [
    {
     "ename": "AttributeError",
     "evalue": "module 'mysql.connector' has no attribute 'connect'",
     "output_type": "error",
     "traceback": [
      "\u001b[1;31m---------------------------------------------------------------------------\u001b[0m",
      "\u001b[1;31mAttributeError\u001b[0m                            Traceback (most recent call last)",
      "Cell \u001b[1;32mIn [3], line 1\u001b[0m\n\u001b[1;32m----> 1\u001b[0m mydb\u001b[38;5;241m=\u001b[39m\u001b[43mmysql\u001b[49m\u001b[38;5;241;43m.\u001b[39;49m\u001b[43mconnector\u001b[49m\u001b[38;5;241;43m.\u001b[39;49m\u001b[43mconnect\u001b[49m(host\u001b[38;5;241m=\u001b[39m\u001b[38;5;124m\"\u001b[39m\u001b[38;5;124mlocalhost\u001b[39m\u001b[38;5;124m\"\u001b[39m,\n\u001b[0;32m      2\u001b[0m                             user\u001b[38;5;241m=\u001b[39m\u001b[38;5;124m\"\u001b[39m\u001b[38;5;124mroot\u001b[39m\u001b[38;5;124m\"\u001b[39m,\n\u001b[0;32m      3\u001b[0m                             password\u001b[38;5;241m=\u001b[39m\u001b[38;5;124m\"\u001b[39m\u001b[38;5;124m2580\u001b[39m\u001b[38;5;124m\"\u001b[39m,\n\u001b[0;32m      4\u001b[0m                             database\u001b[38;5;241m=\u001b[39m\u001b[38;5;124m\"\u001b[39m\u001b[38;5;124mdb1\u001b[39m\u001b[38;5;124m\"\u001b[39m)\n",
      "\u001b[1;31mAttributeError\u001b[0m: module 'mysql.connector' has no attribute 'connect'"
     ]
    }
   ],
   "source": [
    "mydb=mysql.connector.connect(host=\"localhost\",\n",
    "                            user=\"root\",\n",
    "                            password=\"2580\",\n",
    "                            database=\"db1\")"
   ]
  },
  {
   "cell_type": "code",
   "execution_count": 18,
   "id": "efcd82cb",
   "metadata": {},
   "outputs": [],
   "source": [
    "curser=mydb.cursor()"
   ]
  },
  {
   "cell_type": "code",
   "execution_count": 19,
   "id": "c4a5370d",
   "metadata": {},
   "outputs": [],
   "source": [
    "query=\"SELECT *FROM EMP\""
   ]
  },
  {
   "cell_type": "code",
   "execution_count": 20,
   "id": "ca8f9fe0",
   "metadata": {},
   "outputs": [],
   "source": [
    "curser.execute(query)"
   ]
  },
  {
   "cell_type": "code",
   "execution_count": 21,
   "id": "2adcd5cb",
   "metadata": {},
   "outputs": [],
   "source": [
    "table=curser.fetchall()"
   ]
  },
  {
   "cell_type": "code",
   "execution_count": 22,
   "id": "3e0606d9",
   "metadata": {},
   "outputs": [
    {
     "name": "stdout",
     "output_type": "stream",
     "text": [
      "Tabel Database\n",
      "\n",
      "(101, 'MAHESH BABAI', 100000, 'SURYAPET')\n",
      "(102, 'MAHENDRA', 200000, 'JAGITYAL')\n",
      "(103, 'NAVEEN', 300000, 'KORTLA')\n"
     ]
    },
    {
     "data": {
      "text/plain": [
       "True"
      ]
     },
     "execution_count": 22,
     "metadata": {},
     "output_type": "execute_result"
    }
   ],
   "source": [
    "print(\"Tabel Database\\n\")\n",
    "for row in table:\n",
    "    print(row)\n",
    "curser.close()"
   ]
  },
  {
   "cell_type": "code",
   "execution_count": null,
   "id": "52a887b4",
   "metadata": {},
   "outputs": [],
   "source": []
  }
 ],
 "metadata": {
  "kernelspec": {
   "display_name": "Python 3 (ipykernel)",
   "language": "python",
   "name": "python3"
  },
  "language_info": {
   "codemirror_mode": {
    "name": "ipython",
    "version": 3
   },
   "file_extension": ".py",
   "mimetype": "text/x-python",
   "name": "python",
   "nbconvert_exporter": "python",
   "pygments_lexer": "ipython3",
   "version": "3.10.2"
  }
 },
 "nbformat": 4,
 "nbformat_minor": 5
}
