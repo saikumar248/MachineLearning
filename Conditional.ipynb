{
 "cells": [
  {
   "cell_type": "code",
   "execution_count": null,
   "id": "ba759bdc",
   "metadata": {},
   "outputs": [
    {
     "name": "stdout",
     "output_type": "stream",
     "text": [
      "Select any one\n",
      "1.Unconditional\n",
      "2.Conditional\n",
      "1\n",
      "   Income Recreation         Job   Status       Age Owner    target\n",
      "0  medium     skiing      design   single  twenties    no  highrisk\n",
      "1    high       golf     trading  married   forties   yes   lowrisk\n",
      "2     low   speedway   transport  married  thirties   yes   medrisk\n",
      "3  medium   football     banking   single  thirties   yes   lowrisk\n",
      "4    high     flying       media  married   fifties   yes  highrisk\n",
      "5     low   football    security   single  twenties    no   medrisk\n",
      "6  medium       golf       media   single  thirties   yes   medrisk\n",
      "7  medium       golf   transport  married   forties   yes   lowrisk\n",
      "8    high     skiing     banking   single  thirties   yes  highrisk\n",
      "9     low       golf  unemployed  married   forties   yes  highrisk\n",
      "Enter Attribute   :Recreation\n",
      "golf        4\n",
      "skiing      2\n",
      "football    2\n",
      "speedway    1\n",
      "flying      1\n",
      "Name: Recreation, dtype: int64\n"
     ]
    }
   ],
   "source": [
    "import pandas as pd\n",
    "data=pd.read_csv(\"target.csv\")\n",
    "\n",
    "def Unconditional():\n",
    "    print(data)\n",
    "    x=input(\"Enter Attribute   :\")\n",
    "    print(data[x].value_counts())\n",
    "    y=input(\"Enter Vaalue :\")\n",
    "    df=data.loc[(data[x]==y),x]\n",
    "    print(df)\n",
    "    print(\"The Unconditional Probability is\",len(df)/len(data))\n",
    "    \n",
    "\n",
    "def Conditional():\n",
    "    print(data.count)\n",
    "    x=input(\"Enter 1st Attribute   :\")\n",
    "    y=input(\"Enter 1st Value  :\")\n",
    "    a=input(\"Enter 1st Attribute   :\")\n",
    "    df=data.loc[(data[x]==y),[x,a]]\n",
    "    print(df)\n",
    "    b=input(\"Enter 1st Value  :\")\n",
    "    df1=df.loc[(df[a]==b),a]\n",
    "    print(df1)\n",
    "    \n",
    "    df2=data.loc[(data[a]==b),a]\n",
    "    print(df2)\n",
    "    print(len(df1)/len(df2))\n",
    "    \n",
    "# Conditional()\n",
    "\n",
    "val=int(input(\"Select any one\\n1.Unconditional\\n2.Conditional\\n\"))\n",
    "if val==1:\n",
    "    Unconditional()\n",
    "elif val ==2:\n",
    "    Conditional()\n",
    "else:\n",
    "    print(\"enter Only Above\")\n",
    "\n"
   ]
  },
  {
   "cell_type": "code",
   "execution_count": null,
   "id": "c2eae5fa",
   "metadata": {},
   "outputs": [],
   "source": []
  }
 ],
 "metadata": {
  "kernelspec": {
   "display_name": "Python 3 (ipykernel)",
   "language": "python",
   "name": "python3"
  },
  "language_info": {
   "codemirror_mode": {
    "name": "ipython",
    "version": 3
   },
   "file_extension": ".py",
   "mimetype": "text/x-python",
   "name": "python",
   "nbconvert_exporter": "python",
   "pygments_lexer": "ipython3",
   "version": "3.10.2"
  }
 },
 "nbformat": 4,
 "nbformat_minor": 5
}
